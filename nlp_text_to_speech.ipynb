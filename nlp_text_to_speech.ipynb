{
  "cells": [
    {
      "cell_type": "markdown",
      "metadata": {
        "id": "view-in-github",
        "colab_type": "text"
      },
      "source": [
        "<a href=\"https://colab.research.google.com/github/AthiraTS00/GITREP271222/blob/main/nlp_text_to_speech.ipynb\" target=\"_parent\"><img src=\"https://colab.research.google.com/assets/colab-badge.svg\" alt=\"Open In Colab\"/></a>"
      ]
    },
    {
      "cell_type": "code",
      "execution_count": 1,
      "metadata": {
        "id": "PeXE6wXoWf0I"
      },
      "outputs": [],
      "source": [
        "import nltk"
      ]
    },
    {
      "cell_type": "code",
      "execution_count": 2,
      "metadata": {
        "id": "QdeiI51nWf0S"
      },
      "outputs": [],
      "source": [
        "import nltk.corpus"
      ]
    },
    {
      "cell_type": "code",
      "execution_count": 4,
      "metadata": {
        "id": "1JQhECseWf0T"
      },
      "outputs": [],
      "source": [
        "#Tokenization"
      ]
    },
    {
      "cell_type": "code",
      "execution_count": 5,
      "metadata": {
        "id": "zWJy4Oe7Wf0T"
      },
      "outputs": [],
      "source": [
        "from nltk.tokenize import word_tokenize"
      ]
    },
    {
      "cell_type": "code",
      "execution_count": 6,
      "metadata": {
        "id": "RdxPCQhLWf0T"
      },
      "outputs": [],
      "source": [
        "cheese = \"Pecorino Romano is the main ingredient for this simple yet intense pasta recipe.\""
      ]
    },
    {
      "cell_type": "code",
      "source": [
        "import nltk\n",
        "nltk.download('punkt')"
      ],
      "metadata": {
        "colab": {
          "base_uri": "https://localhost:8080/"
        },
        "id": "Lj-n5uZpXPun",
        "outputId": "a6e69263-5416-4f5a-c33b-0b7d42f3e218"
      },
      "execution_count": 7,
      "outputs": [
        {
          "output_type": "stream",
          "name": "stderr",
          "text": [
            "[nltk_data] Downloading package punkt to /root/nltk_data...\n",
            "[nltk_data]   Unzipping tokenizers/punkt.zip.\n"
          ]
        },
        {
          "output_type": "execute_result",
          "data": {
            "text/plain": [
              "True"
            ]
          },
          "metadata": {},
          "execution_count": 7
        }
      ]
    },
    {
      "cell_type": "code",
      "execution_count": 8,
      "metadata": {
        "colab": {
          "base_uri": "https://localhost:8080/"
        },
        "id": "HXR6D6f9Wf0U",
        "outputId": "78035636-76aa-448b-8564-286bfe60d45f"
      },
      "outputs": [
        {
          "output_type": "execute_result",
          "data": {
            "text/plain": [
              "['Pecorino',\n",
              " 'Romano',\n",
              " 'is',\n",
              " 'the',\n",
              " 'main',\n",
              " 'ingredient',\n",
              " 'for',\n",
              " 'this',\n",
              " 'simple',\n",
              " 'yet',\n",
              " 'intense',\n",
              " 'pasta',\n",
              " 'recipe',\n",
              " '.']"
            ]
          },
          "metadata": {},
          "execution_count": 8
        }
      ],
      "source": [
        "word_tokenize(cheese)"
      ]
    },
    {
      "cell_type": "code",
      "execution_count": 9,
      "metadata": {
        "id": "r6h0xchCWf0U"
      },
      "outputs": [],
      "source": [
        "#sentence tokenizer\n",
        "from nltk.tokenize import sent_tokenize"
      ]
    },
    {
      "cell_type": "code",
      "execution_count": 10,
      "metadata": {
        "id": "Bh8Jn3luWf0U"
      },
      "outputs": [],
      "source": [
        "cheese2 = \"Ranked as one of the best cheeses by cheese connoisseurs, this pungent, piquant and hard flaky cheese is a perfect grating cheese for any pasta dish\""
      ]
    },
    {
      "cell_type": "code",
      "execution_count": 11,
      "metadata": {
        "colab": {
          "base_uri": "https://localhost:8080/"
        },
        "id": "4OooTjI2Wf0U",
        "outputId": "2292fd1e-cfa1-4118-da0b-6d3f72fd7e2a"
      },
      "outputs": [
        {
          "output_type": "execute_result",
          "data": {
            "text/plain": [
              "['Ranked as one of the best cheeses by cheese connoisseurs, this pungent, piquant and hard flaky cheese is a perfect grating cheese for any pasta dish']"
            ]
          },
          "metadata": {},
          "execution_count": 11
        }
      ],
      "source": [
        "sent_tokenize(cheese2)"
      ]
    },
    {
      "cell_type": "code",
      "execution_count": 12,
      "metadata": {
        "colab": {
          "base_uri": "https://localhost:8080/"
        },
        "id": "UrwCYGR1Wf0V",
        "outputId": "20ac8c82-3409-4d3e-cfea-a557b656afd3"
      },
      "outputs": [
        {
          "output_type": "execute_result",
          "data": {
            "text/plain": [
              "14"
            ]
          },
          "metadata": {},
          "execution_count": 12
        }
      ],
      "source": [
        "#Checking the number of tokens\n",
        "len(word_tokenize(cheese))"
      ]
    },
    {
      "cell_type": "code",
      "execution_count": null,
      "metadata": {
        "id": "8V7m2E_SWf0V"
      },
      "outputs": [],
      "source": [
        "#bigrams and n-grams"
      ]
    },
    {
      "cell_type": "code",
      "execution_count": 13,
      "metadata": {
        "id": "MsAo0ZdAWf0V"
      },
      "outputs": [],
      "source": [
        "astronaut = \"Can anybody hear me or am I talking to myself? My mind is running empty in the search for someone else\""
      ]
    },
    {
      "cell_type": "code",
      "execution_count": 14,
      "metadata": {
        "id": "jaJglswVWf0V"
      },
      "outputs": [],
      "source": [
        "astronaut_token=(word_tokenize(astronaut))"
      ]
    },
    {
      "cell_type": "code",
      "execution_count": 15,
      "metadata": {
        "colab": {
          "base_uri": "https://localhost:8080/"
        },
        "id": "C2gIMKuSWf0V",
        "outputId": "cc837093-ee11-4905-bc38-6b19cbdb29ec"
      },
      "outputs": [
        {
          "output_type": "execute_result",
          "data": {
            "text/plain": [
              "[('Can', 'anybody'),\n",
              " ('anybody', 'hear'),\n",
              " ('hear', 'me'),\n",
              " ('me', 'or'),\n",
              " ('or', 'am'),\n",
              " ('am', 'I'),\n",
              " ('I', 'talking'),\n",
              " ('talking', 'to'),\n",
              " ('to', 'myself'),\n",
              " ('myself', '?'),\n",
              " ('?', 'My'),\n",
              " ('My', 'mind'),\n",
              " ('mind', 'is'),\n",
              " ('is', 'running'),\n",
              " ('running', 'empty'),\n",
              " ('empty', 'in'),\n",
              " ('in', 'the'),\n",
              " ('the', 'search'),\n",
              " ('search', 'for'),\n",
              " ('for', 'someone'),\n",
              " ('someone', 'else')]"
            ]
          },
          "metadata": {},
          "execution_count": 15
        }
      ],
      "source": [
        "list(nltk.bigrams(astronaut_token))"
      ]
    },
    {
      "cell_type": "code",
      "execution_count": 16,
      "metadata": {
        "colab": {
          "base_uri": "https://localhost:8080/"
        },
        "id": "yJAq8fKiWf0V",
        "outputId": "6565f3da-6cf1-40ad-dff2-7f476bc6d66e"
      },
      "outputs": [
        {
          "output_type": "execute_result",
          "data": {
            "text/plain": [
              "[('Can', 'anybody', 'hear'),\n",
              " ('anybody', 'hear', 'me'),\n",
              " ('hear', 'me', 'or'),\n",
              " ('me', 'or', 'am'),\n",
              " ('or', 'am', 'I'),\n",
              " ('am', 'I', 'talking'),\n",
              " ('I', 'talking', 'to'),\n",
              " ('talking', 'to', 'myself'),\n",
              " ('to', 'myself', '?'),\n",
              " ('myself', '?', 'My'),\n",
              " ('?', 'My', 'mind'),\n",
              " ('My', 'mind', 'is'),\n",
              " ('mind', 'is', 'running'),\n",
              " ('is', 'running', 'empty'),\n",
              " ('running', 'empty', 'in'),\n",
              " ('empty', 'in', 'the'),\n",
              " ('in', 'the', 'search'),\n",
              " ('the', 'search', 'for'),\n",
              " ('search', 'for', 'someone'),\n",
              " ('for', 'someone', 'else')]"
            ]
          },
          "metadata": {},
          "execution_count": 16
        }
      ],
      "source": [
        "list(nltk.trigrams(astronaut_token))"
      ]
    },
    {
      "cell_type": "code",
      "execution_count": 17,
      "metadata": {
        "colab": {
          "base_uri": "https://localhost:8080/"
        },
        "id": "hFDT0-XGWf0W",
        "outputId": "da92d270-de78-47ae-c6b9-6668d56fe64c"
      },
      "outputs": [
        {
          "output_type": "execute_result",
          "data": {
            "text/plain": [
              "[('Can', 'anybody', 'hear', 'me', 'or'),\n",
              " ('anybody', 'hear', 'me', 'or', 'am'),\n",
              " ('hear', 'me', 'or', 'am', 'I'),\n",
              " ('me', 'or', 'am', 'I', 'talking'),\n",
              " ('or', 'am', 'I', 'talking', 'to'),\n",
              " ('am', 'I', 'talking', 'to', 'myself'),\n",
              " ('I', 'talking', 'to', 'myself', '?'),\n",
              " ('talking', 'to', 'myself', '?', 'My'),\n",
              " ('to', 'myself', '?', 'My', 'mind'),\n",
              " ('myself', '?', 'My', 'mind', 'is'),\n",
              " ('?', 'My', 'mind', 'is', 'running'),\n",
              " ('My', 'mind', 'is', 'running', 'empty'),\n",
              " ('mind', 'is', 'running', 'empty', 'in'),\n",
              " ('is', 'running', 'empty', 'in', 'the'),\n",
              " ('running', 'empty', 'in', 'the', 'search'),\n",
              " ('empty', 'in', 'the', 'search', 'for'),\n",
              " ('in', 'the', 'search', 'for', 'someone'),\n",
              " ('the', 'search', 'for', 'someone', 'else')]"
            ]
          },
          "metadata": {},
          "execution_count": 17
        }
      ],
      "source": [
        "list(nltk.ngrams(astronaut_token,5))"
      ]
    },
    {
      "cell_type": "code",
      "execution_count": null,
      "metadata": {
        "id": "r2v5bLGeWf0W"
      },
      "outputs": [],
      "source": [
        "#Stemming"
      ]
    },
    {
      "cell_type": "code",
      "execution_count": 18,
      "metadata": {
        "id": "XZYCXET6Wf0W"
      },
      "outputs": [],
      "source": [
        "from nltk.stem import PorterStemmer"
      ]
    },
    {
      "cell_type": "code",
      "execution_count": 19,
      "metadata": {
        "id": "qmtPE4SXWf0W"
      },
      "outputs": [],
      "source": [
        "my_stem = PorterStemmer()"
      ]
    },
    {
      "cell_type": "code",
      "execution_count": 20,
      "metadata": {
        "colab": {
          "base_uri": "https://localhost:8080/",
          "height": 36
        },
        "id": "LYG-NrFWWf0W",
        "outputId": "34322b86-3336-4269-9749-c98421492ea8"
      },
      "outputs": [
        {
          "output_type": "execute_result",
          "data": {
            "text/plain": [
              "'eat'"
            ],
            "application/vnd.google.colaboratory.intrinsic+json": {
              "type": "string"
            }
          },
          "metadata": {},
          "execution_count": 20
        }
      ],
      "source": [
        "my_stem.stem(\"eating\")"
      ]
    },
    {
      "cell_type": "code",
      "execution_count": 21,
      "metadata": {
        "colab": {
          "base_uri": "https://localhost:8080/",
          "height": 36
        },
        "id": "xnxtd3FbWf0W",
        "outputId": "a2092acb-8de8-43af-bb8f-1b449c9569a7"
      },
      "outputs": [
        {
          "output_type": "execute_result",
          "data": {
            "text/plain": [
              "'go'"
            ],
            "application/vnd.google.colaboratory.intrinsic+json": {
              "type": "string"
            }
          },
          "metadata": {},
          "execution_count": 21
        }
      ],
      "source": [
        "my_stem.stem(\"going\")"
      ]
    },
    {
      "cell_type": "code",
      "execution_count": 22,
      "metadata": {
        "colab": {
          "base_uri": "https://localhost:8080/",
          "height": 36
        },
        "id": "h2yh0th-Wf0X",
        "outputId": "ecd0ac15-f1be-4c4d-95a0-f6bc8e0603e0"
      },
      "outputs": [
        {
          "output_type": "execute_result",
          "data": {
            "text/plain": [
              "'shop'"
            ],
            "application/vnd.google.colaboratory.intrinsic+json": {
              "type": "string"
            }
          },
          "metadata": {},
          "execution_count": 22
        }
      ],
      "source": [
        "my_stem.stem(\"shopping\")"
      ]
    },
    {
      "cell_type": "code",
      "execution_count": null,
      "metadata": {
        "id": "dOeBGWLLWf0X"
      },
      "outputs": [],
      "source": [
        "#pos-tagging"
      ]
    },
    {
      "cell_type": "code",
      "execution_count": 23,
      "metadata": {
        "id": "5QANFQ7RWf0X"
      },
      "outputs": [],
      "source": [
        "tom =\"Tom Hanks is the best actor in the world\""
      ]
    },
    {
      "cell_type": "code",
      "execution_count": 24,
      "metadata": {
        "id": "OXbUrwfcWf0X"
      },
      "outputs": [],
      "source": [
        "tom_token = word_tokenize(tom)"
      ]
    },
    {
      "cell_type": "code",
      "source": [
        "nltk.download('averaged_perceptron_tagger')"
      ],
      "metadata": {
        "colab": {
          "base_uri": "https://localhost:8080/"
        },
        "id": "hGZcJPGOX_JJ",
        "outputId": "46ebb208-c7c6-4e9c-f598-4381f90cbb36"
      },
      "execution_count": 25,
      "outputs": [
        {
          "output_type": "stream",
          "name": "stderr",
          "text": [
            "[nltk_data] Downloading package averaged_perceptron_tagger to\n",
            "[nltk_data]     /root/nltk_data...\n",
            "[nltk_data]   Unzipping taggers/averaged_perceptron_tagger.zip.\n"
          ]
        },
        {
          "output_type": "execute_result",
          "data": {
            "text/plain": [
              "True"
            ]
          },
          "metadata": {},
          "execution_count": 25
        }
      ]
    },
    {
      "cell_type": "code",
      "execution_count": 26,
      "metadata": {
        "colab": {
          "base_uri": "https://localhost:8080/"
        },
        "id": "plETRriQWf0X",
        "outputId": "4789d7ac-879f-4653-ebdd-5919b70b5a3e"
      },
      "outputs": [
        {
          "output_type": "execute_result",
          "data": {
            "text/plain": [
              "[('Tom', 'NNP'),\n",
              " ('Hanks', 'NNP'),\n",
              " ('is', 'VBZ'),\n",
              " ('the', 'DT'),\n",
              " ('best', 'JJS'),\n",
              " ('actor', 'NN'),\n",
              " ('in', 'IN'),\n",
              " ('the', 'DT'),\n",
              " ('world', 'NN')]"
            ]
          },
          "metadata": {},
          "execution_count": 26
        }
      ],
      "source": [
        "nltk.pos_tag(tom_token)"
      ]
    },
    {
      "cell_type": "code",
      "execution_count": null,
      "metadata": {
        "id": "oxxO7EnEWf0X"
      },
      "outputs": [],
      "source": [
        "#Named entity recognition"
      ]
    },
    {
      "cell_type": "code",
      "execution_count": 27,
      "metadata": {
        "id": "Rj4R1u4_Wf0X"
      },
      "outputs": [],
      "source": [
        "from nltk import ne_chunk"
      ]
    },
    {
      "cell_type": "code",
      "execution_count": 28,
      "metadata": {
        "id": "zKOTKvIwWf0X"
      },
      "outputs": [],
      "source": [
        "president = \"Droupadi Murmu is an Indian politician and former teacher who is serving as the 15th and current President of India since 2022\""
      ]
    },
    {
      "cell_type": "code",
      "execution_count": 29,
      "metadata": {
        "id": "-PpOiD0AWf0Y"
      },
      "outputs": [],
      "source": [
        "president_token = word_tokenize(president)"
      ]
    },
    {
      "cell_type": "code",
      "execution_count": 30,
      "metadata": {
        "id": "ou6HBKPfWf0Y"
      },
      "outputs": [],
      "source": [
        "president_pos = nltk.pos_tag(president_token)"
      ]
    },
    {
      "cell_type": "code",
      "source": [
        "nltk.download('maxent_ne_chunker')"
      ],
      "metadata": {
        "colab": {
          "base_uri": "https://localhost:8080/"
        },
        "id": "wESK3MNlYZfo",
        "outputId": "7f189264-7424-44b0-a410-34ea98d296e6"
      },
      "execution_count": 31,
      "outputs": [
        {
          "output_type": "stream",
          "name": "stderr",
          "text": [
            "[nltk_data] Downloading package maxent_ne_chunker to\n",
            "[nltk_data]     /root/nltk_data...\n",
            "[nltk_data]   Unzipping chunkers/maxent_ne_chunker.zip.\n"
          ]
        },
        {
          "output_type": "execute_result",
          "data": {
            "text/plain": [
              "True"
            ]
          },
          "metadata": {},
          "execution_count": 31
        }
      ]
    },
    {
      "cell_type": "code",
      "source": [
        " nltk.download('words')"
      ],
      "metadata": {
        "colab": {
          "base_uri": "https://localhost:8080/"
        },
        "id": "fvAoUQ0LYfFW",
        "outputId": "80773e8f-73da-496f-ecbc-fb6228f7910e"
      },
      "execution_count": 32,
      "outputs": [
        {
          "output_type": "stream",
          "name": "stderr",
          "text": [
            "[nltk_data] Downloading package words to /root/nltk_data...\n",
            "[nltk_data]   Unzipping corpora/words.zip.\n"
          ]
        },
        {
          "output_type": "execute_result",
          "data": {
            "text/plain": [
              "True"
            ]
          },
          "metadata": {},
          "execution_count": 32
        }
      ]
    },
    {
      "cell_type": "code",
      "execution_count": 33,
      "metadata": {
        "colab": {
          "base_uri": "https://localhost:8080/"
        },
        "id": "YK0BSfXwWf0Y",
        "outputId": "3b0b1ae3-4183-4d20-fae3-ae9fa307b077"
      },
      "outputs": [
        {
          "output_type": "stream",
          "name": "stdout",
          "text": [
            "(S\n",
            "  (PERSON Droupadi/NNP)\n",
            "  (ORGANIZATION Murmu/NNP)\n",
            "  is/VBZ\n",
            "  an/DT\n",
            "  (GPE Indian/JJ)\n",
            "  politician/NN\n",
            "  and/CC\n",
            "  former/JJ\n",
            "  teacher/NN\n",
            "  who/WP\n",
            "  is/VBZ\n",
            "  serving/VBG\n",
            "  as/IN\n",
            "  the/DT\n",
            "  15th/CD\n",
            "  and/CC\n",
            "  current/JJ\n",
            "  President/NNP\n",
            "  of/IN\n",
            "  (GPE India/NNP)\n",
            "  since/IN\n",
            "  2022/CD)\n"
          ]
        }
      ],
      "source": [
        "print(ne_chunk(president_pos))"
      ]
    },
    {
      "cell_type": "code",
      "source": [
        "!pip install gtts"
      ],
      "metadata": {
        "colab": {
          "base_uri": "https://localhost:8080/"
        },
        "id": "U_VqEcUcYzoB",
        "outputId": "b541d81f-14f7-409f-884b-e5f0dfbee933"
      },
      "execution_count": 34,
      "outputs": [
        {
          "output_type": "stream",
          "name": "stdout",
          "text": [
            "Looking in indexes: https://pypi.org/simple, https://us-python.pkg.dev/colab-wheels/public/simple/\n",
            "Collecting gtts\n",
            "  Downloading gTTS-2.3.2-py3-none-any.whl (28 kB)\n",
            "Requirement already satisfied: requests<3,>=2.27 in /usr/local/lib/python3.10/dist-packages (from gtts) (2.27.1)\n",
            "Requirement already satisfied: click<8.2,>=7.1 in /usr/local/lib/python3.10/dist-packages (from gtts) (8.1.3)\n",
            "Requirement already satisfied: urllib3<1.27,>=1.21.1 in /usr/local/lib/python3.10/dist-packages (from requests<3,>=2.27->gtts) (1.26.15)\n",
            "Requirement already satisfied: certifi>=2017.4.17 in /usr/local/lib/python3.10/dist-packages (from requests<3,>=2.27->gtts) (2022.12.7)\n",
            "Requirement already satisfied: charset-normalizer~=2.0.0 in /usr/local/lib/python3.10/dist-packages (from requests<3,>=2.27->gtts) (2.0.12)\n",
            "Requirement already satisfied: idna<4,>=2.5 in /usr/local/lib/python3.10/dist-packages (from requests<3,>=2.27->gtts) (3.4)\n",
            "Installing collected packages: gtts\n",
            "Successfully installed gtts-2.3.2\n"
          ]
        }
      ]
    },
    {
      "cell_type": "code",
      "execution_count": 35,
      "metadata": {
        "colab": {
          "base_uri": "https://localhost:8080/",
          "height": 76
        },
        "id": "FqrvN83dWf0Y",
        "outputId": "ace2d5cb-3371-473f-bb9d-bc9911371885"
      },
      "outputs": [
        {
          "output_type": "execute_result",
          "data": {
            "text/plain": [
              "<IPython.lib.display.Audio object>"
            ],
            "text/html": [
              "\n",
              "                <audio  controls=\"controls\" autoplay=\"autoplay\">\n",
              "                    <source src=\"data:audio/x-wav;base64,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\" type=\"audio/x-wav\" />\n",
              "                    Your browser does not support the audio element.\n",
              "                </audio>\n",
              "              "
            ]
          },
          "metadata": {},
          "execution_count": 35
        }
      ],
      "source": [
        "from gtts import gTTS\n",
        "from IPython.display import Audio\n",
        "tts = gTTS('Hello Athira, How are you, Hope you are doing Well?')\n",
        "tts.save('1.wav')\n",
        "sound_file = '1.wav'\n",
        "Audio(sound_file, autoplay=True)"
      ]
    },
    {
      "cell_type": "code",
      "execution_count": 43,
      "metadata": {
        "id": "-y9hKjuvWf0Y"
      },
      "outputs": [],
      "source": [
        "tts_cheese = gTTS(cheese)\n",
        "tts_cheese2 = gTTS(cheese2)\n",
        "tts_president = gTTS(president)\n",
        "tts_tom = gTTS(tom)\n",
        "tts_cheese.save('cheese_audio.wav')\n",
        "tts_president.save('president_audio.wav')\n",
        "tts_cheese2.save('cheese2_audio.wav')\n",
        "tts_tom.save('tom_audio.wv')\n",
        "sound_file1 = 'cheese_audio.wav'\n",
        "sound_file2 = 'president_audio.wav'\n",
        "sound_file3 = 'cheese2_audio.wav'\n",
        "sound_file4 = 'tom_audio.wav'\n"
      ]
    }
  ],
  "metadata": {
    "kernelspec": {
      "display_name": "Python 3",
      "language": "python",
      "name": "python3"
    },
    "language_info": {
      "codemirror_mode": {
        "name": "ipython",
        "version": 3
      },
      "file_extension": ".py",
      "mimetype": "text/x-python",
      "name": "python",
      "nbconvert_exporter": "python",
      "pygments_lexer": "ipython3",
      "version": "3.7.4"
    },
    "colab": {
      "provenance": [],
      "include_colab_link": true
    }
  },
  "nbformat": 4,
  "nbformat_minor": 0
}