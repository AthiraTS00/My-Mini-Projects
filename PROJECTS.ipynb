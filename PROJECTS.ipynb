{
  "nbformat": 4,
  "nbformat_minor": 0,
  "metadata": {
    "colab": {
      "provenance": [],
      "authorship_tag": "ABX9TyNzLqTzL4xFbB70a5CBNOBI",
      "include_colab_link": true
    },
    "kernelspec": {
      "name": "python3",
      "display_name": "Python 3"
    },
    "language_info": {
      "name": "python"
    }
  },
  "cells": [
    {
      "cell_type": "markdown",
      "metadata": {
        "id": "view-in-github",
        "colab_type": "text"
      },
      "source": [
        "<a href=\"https://colab.research.google.com/github/AthiraTS00/GITREP271222/blob/main/PROJECTS.ipynb\" target=\"_parent\"><img src=\"https://colab.research.google.com/assets/colab-badge.svg\" alt=\"Open In Colab\"/></a>"
      ]
    },
    {
      "cell_type": "markdown",
      "source": [
        "**INSTAGRAM RECOMMENDATION SYSTEM WITH MACHINE LEARNING**"
      ],
      "metadata": {
        "id": "jFqmcGuNz23r"
      }
    },
    {
      "cell_type": "code",
      "execution_count": null,
      "metadata": {
        "id": "t5npOtQEiqWS"
      },
      "outputs": [],
      "source": [
        "import pandas as pd \n",
        "import numpy as np\n",
        "from sklearn.feature_extraction import text\n",
        "from sklearn.metrics.pairwise import cosine_similarity"
      ]
    },
    {
      "cell_type": "code",
      "source": [
        "url= (\"https://raw.githubusercontent.com/amankharwal/Website-data/master/Instagram%20data.csv\")\n",
        "data = pd.read_csv(url)"
      ],
      "metadata": {
        "id": "NOC-GJzsj7jb"
      },
      "execution_count": null,
      "outputs": []
    },
    {
      "cell_type": "code",
      "source": [
        "print(data.head())"
      ],
      "metadata": {
        "colab": {
          "base_uri": "https://localhost:8080/"
        },
        "id": "Q1cYEes7kevt",
        "outputId": "d9760e6a-5754-49d8-bd60-89687f67df43"
      },
      "execution_count": null,
      "outputs": [
        {
          "output_type": "stream",
          "name": "stdout",
          "text": [
            "         Date  Impressions  From Home  From Hashtags  From Explore  \\\n",
            "0  2021-12-10         3920       2586           1028           619   \n",
            "1  2021-12-11         5394       2727           1838          1174   \n",
            "2  2021-12-12         4021       2085           1188             0   \n",
            "3  2021-12-13         4528       2700            621           932   \n",
            "4  2021-12-14         2518       1704            255           279   \n",
            "\n",
            "   From Other  Saves  Comments  Shares  Likes  Profile Visits  Follows  \\\n",
            "0          56     98         9       5    162              35        2   \n",
            "1          78    194         7      14    224              48       10   \n",
            "2         533     41        11       1    131              62       12   \n",
            "3          73    172        10       7    213              23        8   \n",
            "4          37     96         5       4    123               8        0   \n",
            "\n",
            "   Conversion Rate                                            Caption  \\\n",
            "0         5.714286  Here are some of the most important data visua...   \n",
            "1        20.833333  Here are some of the best data science project...   \n",
            "2        19.354839  Learn how to train a machine learning model an...   \n",
            "3        34.782609  Here’s how you can write a Python program to d...   \n",
            "4         0.000000  Plotting annotations while visualizing your da...   \n",
            "\n",
            "                                            Hashtags  \n",
            "0  #finance #money #business #investing #investme...  \n",
            "1  #healthcare #health #covid #data #datascience ...  \n",
            "2  #data #datascience #dataanalysis #dataanalytic...  \n",
            "3  #python #pythonprogramming #pythonprojects #py...  \n",
            "4  #datavisualization #datascience #data #dataana...  \n"
          ]
        }
      ]
    },
    {
      "cell_type": "code",
      "source": [
        "data =data[[\"Caption\", \"Hashtags\", \"Likes\"]]\n",
        "print(data.head())"
      ],
      "metadata": {
        "colab": {
          "base_uri": "https://localhost:8080/"
        },
        "id": "RestaaxHlCDx",
        "outputId": "27bee0c0-112a-45a8-97b7-60d2558823da"
      },
      "execution_count": null,
      "outputs": [
        {
          "output_type": "stream",
          "name": "stdout",
          "text": [
            "                                             Caption  \\\n",
            "0  Here are some of the most important data visua...   \n",
            "1  Here are some of the best data science project...   \n",
            "2  Learn how to train a machine learning model an...   \n",
            "3  Here’s how you can write a Python program to d...   \n",
            "4  Plotting annotations while visualizing your da...   \n",
            "\n",
            "                                            Hashtags  Likes  \n",
            "0  #finance #money #business #investing #investme...    162  \n",
            "1  #healthcare #health #covid #data #datascience ...    224  \n",
            "2  #data #datascience #dataanalysis #dataanalytic...    131  \n",
            "3  #python #pythonprogramming #pythonprojects #py...    213  \n",
            "4  #datavisualization #datascience #data #dataana...    123  \n"
          ]
        }
      ]
    },
    {
      "cell_type": "code",
      "source": [
        "captions = data[\"Caption\"].tolist()\n",
        "uni_tfidf = text.TfidfVectorizer(stop_words=\"english\")\n",
        "uni_matrix = uni_tfidf.fit_transform(captions)\n",
        "uni_sim = cosine_similarity(uni_matrix)\n",
        "\n",
        "def recommend_post(x):\n",
        "  return \", \".join(data[\"Caption\"].loc[x.argsort()[-5:-1]])\n",
        "\n",
        "data[\"Recommended Post\"] = [recommend_post(x) for x in uni_sim]\n",
        "print(data.head())"
      ],
      "metadata": {
        "colab": {
          "base_uri": "https://localhost:8080/"
        },
        "id": "WPWrae7xlb6x",
        "outputId": "3a44bb9c-9adb-42f5-f3ba-bb98aaff9c7b"
      },
      "execution_count": null,
      "outputs": [
        {
          "output_type": "stream",
          "name": "stdout",
          "text": [
            "                                             Caption  \\\n",
            "0  Here are some of the most important data visua...   \n",
            "1  Here are some of the best data science project...   \n",
            "2  Learn how to train a machine learning model an...   \n",
            "3  Here’s how you can write a Python program to d...   \n",
            "4  Plotting annotations while visualizing your da...   \n",
            "\n",
            "                                            Hashtags  Likes  \\\n",
            "0  #finance #money #business #investing #investme...    162   \n",
            "1  #healthcare #health #covid #data #datascience ...    224   \n",
            "2  #data #datascience #dataanalysis #dataanalytic...    131   \n",
            "3  #python #pythonprogramming #pythonprojects #py...    213   \n",
            "4  #datavisualization #datascience #data #dataana...    123   \n",
            "\n",
            "                                    Recommended Post  \n",
            "0  Here are some of the most important tools that...  \n",
            "1  Here are some of the best data science project...  \n",
            "2  Data Science Use Cases: Here’s how Zomato is u...  \n",
            "3  Here’s how to write a Python function to rever...  \n",
            "4  Practice these 90+ Data Science Projects For B...  \n"
          ]
        }
      ]
    },
    {
      "cell_type": "code",
      "source": [
        "print(data[\"Recommended Post\"][5])"
      ],
      "metadata": {
        "colab": {
          "base_uri": "https://localhost:8080/"
        },
        "id": "FCs4xHQZmyD7",
        "outputId": "1ffec0d8-a680-42e2-a30f-9f5b344a72f5"
      },
      "execution_count": null,
      "outputs": [
        {
          "output_type": "stream",
          "name": "stdout",
          "text": [
            "Here are some of the most important data visualizations that every Financial Data Analyst/Scientist should know., Here are some of the most important skills you need for your first data science job., Here are some of the most important data visualizations that every data scientist must know., Here are some of the most important soft skills that every data scientist should have.\n"
          ]
        }
      ]
    },
    {
      "cell_type": "markdown",
      "source": [
        "**Movie recommendation based on emotion in Python**"
      ],
      "metadata": {
        "id": "GwZ4Qjw_Ukhz"
      }
    },
    {
      "cell_type": "code",
      "source": [
        "# Python3 code for movie\n",
        "# recommendation based on\n",
        "# emotion\n",
        "\n",
        "# Import library for web\n",
        "# scrapping\n",
        "from bs4 import BeautifulSoup as SOUP\n",
        "import re\n",
        "import requests as HTTP\n",
        "\n",
        "# Main Function for scraping\n",
        "def main(emotion):\n",
        "\n",
        "\t# IMDb Url for Drama genre of\n",
        "\t# movie against emotion Sad\n",
        "\tif(emotion == \"Sad\"):\n",
        "\t\turlhere = 'http://www.imdb.com/search/title?genres=drama&title_type=feature&sort=moviemeter, asc'\n",
        "\n",
        "\t# IMDb Url for Musical genre of\n",
        "\t# movie against emotion Disgust\n",
        "\telif(emotion == \"Disgust\"):\n",
        "\t\turlhere = 'http://www.imdb.com/search/title?genres=musical&title_type=feature&sort=moviemeter, asc'\n",
        "\n",
        "\t# IMDb Url for Family genre of\n",
        "\t# movie against emotion Anger\n",
        "\telif(emotion == \"Anger\"):\n",
        "\t\turlhere = 'http://www.imdb.com/search/title?genres=family&title_type=feature&sort=moviemeter, asc'\n",
        "\n",
        "\t# IMDb Url for Thriller genre of\n",
        "\t# movie against emotion Anticipation\n",
        "\telif(emotion == \"Anticipation\"):\n",
        "\t\turlhere = 'http://www.imdb.com/search/title?genres=thriller&title_type=feature&sort=moviemeter, asc'\n",
        "\n",
        "\t# IMDb Url for Sport genre of\n",
        "\t# movie against emotion Fear\n",
        "\telif(emotion == \"Fear\"):\n",
        "\t\turlhere = 'http://www.imdb.com/search/title?genres=sport&title_type=feature&sort=moviemeter, asc'\n",
        "\n",
        "\t# IMDb Url for Thriller genre of\n",
        "\t# movie against emotion Enjoyment\n",
        "\telif(emotion == \"Enjoyment\"):\n",
        "\t\turlhere = 'http://www.imdb.com/search/title?genres=thriller&title_type=feature&sort=moviemeter, asc'\n",
        "\n",
        "\t# IMDb Url for Western genre of\n",
        "\t# movie against emotion Trust\n",
        "\telif(emotion == \"Trust\"):\n",
        "\t\turlhere = 'http://www.imdb.com/search/title?genres=western&title_type=feature&sort=moviemeter, asc'\n",
        "\n",
        "\t# IMDb Url for Film_noir genre of\n",
        "\t# movie against emotion Surprise\n",
        "\telif(emotion == \"Surprise\"):\n",
        "\t\turlhere = 'http://www.imdb.com/search/title?genres=film_noir&title_type=feature&sort=moviemeter, asc'\n",
        "\n",
        "\t# HTTP request to get the data of\n",
        "\t# the whole page\n",
        "\tresponse = HTTP.get(urlhere)\n",
        "\tdata = response.text\n",
        "\n",
        "\t# Parsing the data using\n",
        "\t# BeautifulSoup\n",
        "\tsoup = SOUP(data, \"lxml\")\n",
        "\n",
        "\t# Extract movie titles from the\n",
        "\t# data using regex\n",
        "\ttitle = soup.find_all(\"a\", attrs = {\"href\" : re.compile(r'\\/title\\/tt+\\d*\\/')})\n",
        "\treturn title\n",
        "\n",
        "# Driver Function\n",
        "if __name__ == '__main__':\n",
        "\n",
        "\temotion = input(\"Enter the emotion: \")\n",
        "\ta = main(emotion)\n",
        "\tcount = 0\n",
        "\n",
        "\tif(emotion == \"Disgust\" or emotion == \"Anger\"\n",
        "\t\t\t\t\t\tor emotion==\"Surprise\"):\n",
        "\n",
        "\t\tfor i in a:\n",
        "\n",
        "\t\t\t# Splitting each line of the\n",
        "\t\t\t# IMDb data to scrape movies\n",
        "\t\t\ttmp = str(i).split('>;')\n",
        "\n",
        "\t\t\tif(len(tmp) == 3):\n",
        "\t\t\t\tprint(tmp[1][:-3])\n",
        "\n",
        "\t\t\tif(count > 13):\n",
        "\t\t\t\tbreak\n",
        "\t\t\tcount += 1\n",
        "\telse:\n",
        "\t\tfor i in a:\n",
        "\t\t\ttmp = str(i).split('>')\n",
        "\n",
        "\t\t\tif(len(tmp) == 3):\n",
        "\t\t\t\tprint(tmp[1][:-3])\n",
        "\n",
        "\t\t\tif(count > 11):\n",
        "\t\t\t\tbreak\n",
        "\t\t\tcount+=1\n"
      ],
      "metadata": {
        "colab": {
          "base_uri": "https://localhost:8080/"
        },
        "id": "h2csNuvRUjil",
        "outputId": "a93ea61a-3fc1-48a3-86ef-b6ca1327f043"
      },
      "execution_count": null,
      "outputs": [
        {
          "output_type": "stream",
          "name": "stdout",
          "text": [
            "Enter the emotion: Sad\n",
            "Air\n",
            "Killers of the Flower Moon\n",
            "A Man Called Otto\n",
            "Jeanne du Barry\n",
            "To Catch a Killer\n"
          ]
        }
      ]
    },
    {
      "cell_type": "markdown",
      "source": [
        "**Student grade prediction using Machine Learning**"
      ],
      "metadata": {
        "id": "NcYfcypo2m60"
      }
    },
    {
      "cell_type": "code",
      "source": [
        "import pandas as pd\n",
        "import numpy as np"
      ],
      "metadata": {
        "id": "GkUgTPy22qpE"
      },
      "execution_count": null,
      "outputs": []
    },
    {
      "cell_type": "code",
      "source": [
        "data=pd.read_csv(\"/content/student-mat.csv\")"
      ],
      "metadata": {
        "id": "uqBAtrGv3FBe"
      },
      "execution_count": null,
      "outputs": []
    },
    {
      "cell_type": "markdown",
      "source": [
        ".head() will give you the first 5 rows of your data"
      ],
      "metadata": {
        "id": "sJbHDlBv3X7i"
      }
    },
    {
      "cell_type": "code",
      "source": [
        "data.head()"
      ],
      "metadata": {
        "colab": {
          "base_uri": "https://localhost:8080/",
          "height": 299
        },
        "id": "Kt5sZjPr3Hmv",
        "outputId": "0a3e7e19-a39e-412d-f8cd-3a843984ceb7"
      },
      "execution_count": null,
      "outputs": [
        {
          "output_type": "execute_result",
          "data": {
            "text/plain": [
              "  school sex  age address famsize Pstatus  Medu  Fedu     Mjob      Fjob  ...  \\\n",
              "0     GP   F   18       U     GT3       A     4     4  at_home   teacher  ...   \n",
              "1     GP   F   17       U     GT3       T     1     1  at_home     other  ...   \n",
              "2     GP   F   15       U     LE3       T     1     1  at_home     other  ...   \n",
              "3     GP   F   15       U     GT3       T     4     2   health  services  ...   \n",
              "4     GP   F   16       U     GT3       T     3     3    other     other  ...   \n",
              "\n",
              "  famrel freetime  goout  Dalc  Walc health absences  G1  G2  G3  \n",
              "0      4        3      4     1     1      3        6   5   6   6  \n",
              "1      5        3      3     1     1      3        4   5   5   6  \n",
              "2      4        3      2     2     3      3       10   7   8  10  \n",
              "3      3        2      2     1     1      5        2  15  14  15  \n",
              "4      4        3      2     1     2      5        4   6  10  10  \n",
              "\n",
              "[5 rows x 33 columns]"
            ],
            "text/html": [
              "\n",
              "  <div id=\"df-8e48f830-9794-4567-8153-ac7da96c0a61\">\n",
              "    <div class=\"colab-df-container\">\n",
              "      <div>\n",
              "<style scoped>\n",
              "    .dataframe tbody tr th:only-of-type {\n",
              "        vertical-align: middle;\n",
              "    }\n",
              "\n",
              "    .dataframe tbody tr th {\n",
              "        vertical-align: top;\n",
              "    }\n",
              "\n",
              "    .dataframe thead th {\n",
              "        text-align: right;\n",
              "    }\n",
              "</style>\n",
              "<table border=\"1\" class=\"dataframe\">\n",
              "  <thead>\n",
              "    <tr style=\"text-align: right;\">\n",
              "      <th></th>\n",
              "      <th>school</th>\n",
              "      <th>sex</th>\n",
              "      <th>age</th>\n",
              "      <th>address</th>\n",
              "      <th>famsize</th>\n",
              "      <th>Pstatus</th>\n",
              "      <th>Medu</th>\n",
              "      <th>Fedu</th>\n",
              "      <th>Mjob</th>\n",
              "      <th>Fjob</th>\n",
              "      <th>...</th>\n",
              "      <th>famrel</th>\n",
              "      <th>freetime</th>\n",
              "      <th>goout</th>\n",
              "      <th>Dalc</th>\n",
              "      <th>Walc</th>\n",
              "      <th>health</th>\n",
              "      <th>absences</th>\n",
              "      <th>G1</th>\n",
              "      <th>G2</th>\n",
              "      <th>G3</th>\n",
              "    </tr>\n",
              "  </thead>\n",
              "  <tbody>\n",
              "    <tr>\n",
              "      <th>0</th>\n",
              "      <td>GP</td>\n",
              "      <td>F</td>\n",
              "      <td>18</td>\n",
              "      <td>U</td>\n",
              "      <td>GT3</td>\n",
              "      <td>A</td>\n",
              "      <td>4</td>\n",
              "      <td>4</td>\n",
              "      <td>at_home</td>\n",
              "      <td>teacher</td>\n",
              "      <td>...</td>\n",
              "      <td>4</td>\n",
              "      <td>3</td>\n",
              "      <td>4</td>\n",
              "      <td>1</td>\n",
              "      <td>1</td>\n",
              "      <td>3</td>\n",
              "      <td>6</td>\n",
              "      <td>5</td>\n",
              "      <td>6</td>\n",
              "      <td>6</td>\n",
              "    </tr>\n",
              "    <tr>\n",
              "      <th>1</th>\n",
              "      <td>GP</td>\n",
              "      <td>F</td>\n",
              "      <td>17</td>\n",
              "      <td>U</td>\n",
              "      <td>GT3</td>\n",
              "      <td>T</td>\n",
              "      <td>1</td>\n",
              "      <td>1</td>\n",
              "      <td>at_home</td>\n",
              "      <td>other</td>\n",
              "      <td>...</td>\n",
              "      <td>5</td>\n",
              "      <td>3</td>\n",
              "      <td>3</td>\n",
              "      <td>1</td>\n",
              "      <td>1</td>\n",
              "      <td>3</td>\n",
              "      <td>4</td>\n",
              "      <td>5</td>\n",
              "      <td>5</td>\n",
              "      <td>6</td>\n",
              "    </tr>\n",
              "    <tr>\n",
              "      <th>2</th>\n",
              "      <td>GP</td>\n",
              "      <td>F</td>\n",
              "      <td>15</td>\n",
              "      <td>U</td>\n",
              "      <td>LE3</td>\n",
              "      <td>T</td>\n",
              "      <td>1</td>\n",
              "      <td>1</td>\n",
              "      <td>at_home</td>\n",
              "      <td>other</td>\n",
              "      <td>...</td>\n",
              "      <td>4</td>\n",
              "      <td>3</td>\n",
              "      <td>2</td>\n",
              "      <td>2</td>\n",
              "      <td>3</td>\n",
              "      <td>3</td>\n",
              "      <td>10</td>\n",
              "      <td>7</td>\n",
              "      <td>8</td>\n",
              "      <td>10</td>\n",
              "    </tr>\n",
              "    <tr>\n",
              "      <th>3</th>\n",
              "      <td>GP</td>\n",
              "      <td>F</td>\n",
              "      <td>15</td>\n",
              "      <td>U</td>\n",
              "      <td>GT3</td>\n",
              "      <td>T</td>\n",
              "      <td>4</td>\n",
              "      <td>2</td>\n",
              "      <td>health</td>\n",
              "      <td>services</td>\n",
              "      <td>...</td>\n",
              "      <td>3</td>\n",
              "      <td>2</td>\n",
              "      <td>2</td>\n",
              "      <td>1</td>\n",
              "      <td>1</td>\n",
              "      <td>5</td>\n",
              "      <td>2</td>\n",
              "      <td>15</td>\n",
              "      <td>14</td>\n",
              "      <td>15</td>\n",
              "    </tr>\n",
              "    <tr>\n",
              "      <th>4</th>\n",
              "      <td>GP</td>\n",
              "      <td>F</td>\n",
              "      <td>16</td>\n",
              "      <td>U</td>\n",
              "      <td>GT3</td>\n",
              "      <td>T</td>\n",
              "      <td>3</td>\n",
              "      <td>3</td>\n",
              "      <td>other</td>\n",
              "      <td>other</td>\n",
              "      <td>...</td>\n",
              "      <td>4</td>\n",
              "      <td>3</td>\n",
              "      <td>2</td>\n",
              "      <td>1</td>\n",
              "      <td>2</td>\n",
              "      <td>5</td>\n",
              "      <td>4</td>\n",
              "      <td>6</td>\n",
              "      <td>10</td>\n",
              "      <td>10</td>\n",
              "    </tr>\n",
              "  </tbody>\n",
              "</table>\n",
              "<p>5 rows × 33 columns</p>\n",
              "</div>\n",
              "      <button class=\"colab-df-convert\" onclick=\"convertToInteractive('df-8e48f830-9794-4567-8153-ac7da96c0a61')\"\n",
              "              title=\"Convert this dataframe to an interactive table.\"\n",
              "              style=\"display:none;\">\n",
              "        \n",
              "  <svg xmlns=\"http://www.w3.org/2000/svg\" height=\"24px\"viewBox=\"0 0 24 24\"\n",
              "       width=\"24px\">\n",
              "    <path d=\"M0 0h24v24H0V0z\" fill=\"none\"/>\n",
              "    <path d=\"M18.56 5.44l.94 2.06.94-2.06 2.06-.94-2.06-.94-.94-2.06-.94 2.06-2.06.94zm-11 1L8.5 8.5l.94-2.06 2.06-.94-2.06-.94L8.5 2.5l-.94 2.06-2.06.94zm10 10l.94 2.06.94-2.06 2.06-.94-2.06-.94-.94-2.06-.94 2.06-2.06.94z\"/><path d=\"M17.41 7.96l-1.37-1.37c-.4-.4-.92-.59-1.43-.59-.52 0-1.04.2-1.43.59L10.3 9.45l-7.72 7.72c-.78.78-.78 2.05 0 2.83L4 21.41c.39.39.9.59 1.41.59.51 0 1.02-.2 1.41-.59l7.78-7.78 2.81-2.81c.8-.78.8-2.07 0-2.86zM5.41 20L4 18.59l7.72-7.72 1.47 1.35L5.41 20z\"/>\n",
              "  </svg>\n",
              "      </button>\n",
              "      \n",
              "  <style>\n",
              "    .colab-df-container {\n",
              "      display:flex;\n",
              "      flex-wrap:wrap;\n",
              "      gap: 12px;\n",
              "    }\n",
              "\n",
              "    .colab-df-convert {\n",
              "      background-color: #E8F0FE;\n",
              "      border: none;\n",
              "      border-radius: 50%;\n",
              "      cursor: pointer;\n",
              "      display: none;\n",
              "      fill: #1967D2;\n",
              "      height: 32px;\n",
              "      padding: 0 0 0 0;\n",
              "      width: 32px;\n",
              "    }\n",
              "\n",
              "    .colab-df-convert:hover {\n",
              "      background-color: #E2EBFA;\n",
              "      box-shadow: 0px 1px 2px rgba(60, 64, 67, 0.3), 0px 1px 3px 1px rgba(60, 64, 67, 0.15);\n",
              "      fill: #174EA6;\n",
              "    }\n",
              "\n",
              "    [theme=dark] .colab-df-convert {\n",
              "      background-color: #3B4455;\n",
              "      fill: #D2E3FC;\n",
              "    }\n",
              "\n",
              "    [theme=dark] .colab-df-convert:hover {\n",
              "      background-color: #434B5C;\n",
              "      box-shadow: 0px 1px 3px 1px rgba(0, 0, 0, 0.15);\n",
              "      filter: drop-shadow(0px 1px 2px rgba(0, 0, 0, 0.3));\n",
              "      fill: #FFFFFF;\n",
              "    }\n",
              "  </style>\n",
              "\n",
              "      <script>\n",
              "        const buttonEl =\n",
              "          document.querySelector('#df-8e48f830-9794-4567-8153-ac7da96c0a61 button.colab-df-convert');\n",
              "        buttonEl.style.display =\n",
              "          google.colab.kernel.accessAllowed ? 'block' : 'none';\n",
              "\n",
              "        async function convertToInteractive(key) {\n",
              "          const element = document.querySelector('#df-8e48f830-9794-4567-8153-ac7da96c0a61');\n",
              "          const dataTable =\n",
              "            await google.colab.kernel.invokeFunction('convertToInteractive',\n",
              "                                                     [key], {});\n",
              "          if (!dataTable) return;\n",
              "\n",
              "          const docLinkHtml = 'Like what you see? Visit the ' +\n",
              "            '<a target=\"_blank\" href=https://colab.research.google.com/notebooks/data_table.ipynb>data table notebook</a>'\n",
              "            + ' to learn more about interactive tables.';\n",
              "          element.innerHTML = '';\n",
              "          dataTable['output_type'] = 'display_data';\n",
              "          await google.colab.output.renderOutput(dataTable, element);\n",
              "          const docLink = document.createElement('div');\n",
              "          docLink.innerHTML = docLinkHtml;\n",
              "          element.appendChild(docLink);\n",
              "        }\n",
              "      </script>\n",
              "    </div>\n",
              "  </div>\n",
              "  "
            ]
          },
          "metadata": {},
          "execution_count": 3
        }
      ]
    },
    {
      "cell_type": "markdown",
      "source": [
        "Final grade"
      ],
      "metadata": {
        "id": "HLlXBdNW3SR3"
      }
    },
    {
      "cell_type": "markdown",
      "source": [
        "The describe() method returns description of the data in the DataFrame."
      ],
      "metadata": {
        "id": "J3NBieic3kXZ"
      }
    },
    {
      "cell_type": "code",
      "source": [
        "data['G3'].describe()\n"
      ],
      "metadata": {
        "colab": {
          "base_uri": "https://localhost:8080/"
        },
        "id": "0aYqHUsD3T3S",
        "outputId": "dbcb7a80-9262-4e7b-e6c2-8d1efc986829"
      },
      "execution_count": null,
      "outputs": [
        {
          "output_type": "execute_result",
          "data": {
            "text/plain": [
              "count    395.000000\n",
              "mean      10.415190\n",
              "std        4.581443\n",
              "min        0.000000\n",
              "25%        8.000000\n",
              "50%       11.000000\n",
              "75%       14.000000\n",
              "max       20.000000\n",
              "Name: G3, dtype: float64"
            ]
          },
          "metadata": {},
          "execution_count": 4
        }
      ]
    },
    {
      "cell_type": "code",
      "source": [
        "import seaborn as sns\n",
        "import matplotlib.pyplot as plt\n",
        "demo= sns.countplot(x=data['G3'])\n",
        "demo.axes.set_title('Distribution of Final grade of students', fontsize = 25)\n",
        "demo.set_xlabel('Final Grade', fontsize = 15)\n",
        "demo.set_ylabel('Count', fontsize = 15)\n",
        "plt.show()"
      ],
      "metadata": {
        "colab": {
          "base_uri": "https://localhost:8080/",
          "height": 486
        },
        "id": "riJfdxK33tRo",
        "outputId": "2caeeff3-210c-426b-a32e-568bfdfad8a6"
      },
      "execution_count": null,
      "outputs": [
        {
          "output_type": "display_data",
          "data": {
            "text/plain": [
              "<Figure size 640x480 with 1 Axes>"
            ],
            "image/png": "[encoded data removed]"
          },
          "metadata": {}
        }
      ]
    },
    {
      "cell_type": "code",
      "source": [
        "data.columns"
      ],
      "metadata": {
        "colab": {
          "base_uri": "https://localhost:8080/"
        },
        "id": "AUidtxaG4vfh",
        "outputId": "1f316e13-1a4d-4c5a-9d6e-c3741e101641"
      },
      "execution_count": null,
      "outputs": [
        {
          "output_type": "execute_result",
          "data": {
            "text/plain": [
              "Index(['school', 'sex', 'age', 'address', 'famsize', 'Pstatus', 'Medu', 'Fedu',\n",
              "       'Mjob', 'Fjob', 'reason', 'guardian', 'traveltime', 'studytime',\n",
              "       'failures', 'schoolsup', 'famsup', 'paid', 'activities', 'nursery',\n",
              "       'higher', 'internet', 'romantic', 'famrel', 'freetime', 'goout', 'Dalc',\n",
              "       'Walc', 'health', 'absences', 'G1', 'G2', 'G3'],\n",
              "      dtype='object')"
            ]
          },
          "metadata": {},
          "execution_count": 10
        }
      ]
    },
    {
      "cell_type": "code",
      "source": [
        "data.G3"
      ],
      "metadata": {
        "colab": {
          "base_uri": "https://localhost:8080/"
        },
        "id": "9eTLyrqt4098",
        "outputId": "df9ae859-3a4e-4dcf-a9ef-f99790d9f69d"
      },
      "execution_count": null,
      "outputs": [
        {
          "output_type": "execute_result",
          "data": {
            "text/plain": [
              "0       6\n",
              "1       6\n",
              "2      10\n",
              "3      15\n",
              "4      10\n",
              "       ..\n",
              "390     9\n",
              "391    16\n",
              "392     7\n",
              "393    10\n",
              "394     9\n",
              "Name: G3, Length: 395, dtype: int64"
            ]
          },
          "metadata": {},
          "execution_count": 11
        }
      ]
    },
    {
      "cell_type": "code",
      "source": [
        "print(data['G3'].where(data['G3']==0))"
      ],
      "metadata": {
        "colab": {
          "base_uri": "https://localhost:8080/"
        },
        "id": "0f4OhWAX46Pr",
        "outputId": "557aeda8-c39b-4e94-baa0-e031d9aed5e9"
      },
      "execution_count": null,
      "outputs": [
        {
          "output_type": "stream",
          "name": "stdout",
          "text": [
            "0     NaN\n",
            "1     NaN\n",
            "2     NaN\n",
            "3     NaN\n",
            "4     NaN\n",
            "       ..\n",
            "390   NaN\n",
            "391   NaN\n",
            "392   NaN\n",
            "393   NaN\n",
            "394   NaN\n",
            "Name: G3, Length: 395, dtype: float64\n"
          ]
        }
      ]
    },
    {
      "cell_type": "code",
      "source": [
        "data.shape"
      ],
      "metadata": {
        "colab": {
          "base_uri": "https://localhost:8080/"
        },
        "id": "Me4N05FT6UKZ",
        "outputId": "e3253d50-fea2-4678-b377-5e44bd6f1f27"
      },
      "execution_count": null,
      "outputs": [
        {
          "output_type": "execute_result",
          "data": {
            "text/plain": [
              "(395, 33)"
            ]
          },
          "metadata": {},
          "execution_count": 16
        }
      ]
    },
    {
      "cell_type": "code",
      "source": [
        "data.isnull().any()"
      ],
      "metadata": {
        "colab": {
          "base_uri": "https://localhost:8080/"
        },
        "id": "0-z6ry8k4P4M",
        "outputId": "141d0c1e-d865-424c-8bfa-4a9b4918923e"
      },
      "execution_count": null,
      "outputs": [
        {
          "output_type": "execute_result",
          "data": {
            "text/plain": [
              "school        False\n",
              "sex           False\n",
              "age           False\n",
              "address       False\n",
              "famsize       False\n",
              "Pstatus       False\n",
              "Medu          False\n",
              "Fedu          False\n",
              "Mjob          False\n",
              "Fjob          False\n",
              "reason        False\n",
              "guardian      False\n",
              "traveltime    False\n",
              "studytime     False\n",
              "failures      False\n",
              "schoolsup     False\n",
              "famsup        False\n",
              "paid          False\n",
              "activities    False\n",
              "nursery       False\n",
              "higher        False\n",
              "internet      False\n",
              "romantic      False\n",
              "famrel        False\n",
              "freetime      False\n",
              "goout         False\n",
              "Dalc          False\n",
              "Walc          False\n",
              "health        False\n",
              "absences      False\n",
              "G1            False\n",
              "G2            False\n",
              "G3            False\n",
              "dtype: bool"
            ]
          },
          "metadata": {},
          "execution_count": 6
        }
      ]
    },
    {
      "cell_type": "code",
      "source": [
        "data.isnull().sum()"
      ],
      "metadata": {
        "colab": {
          "base_uri": "https://localhost:8080/"
        },
        "id": "X6mQVN3G4XLq",
        "outputId": "f8d8f610-ed2b-4d86-dccb-cac539f7ab2c"
      },
      "execution_count": null,
      "outputs": [
        {
          "output_type": "execute_result",
          "data": {
            "text/plain": [
              "school        0\n",
              "sex           0\n",
              "age           0\n",
              "address       0\n",
              "famsize       0\n",
              "Pstatus       0\n",
              "Medu          0\n",
              "Fedu          0\n",
              "Mjob          0\n",
              "Fjob          0\n",
              "reason        0\n",
              "guardian      0\n",
              "traveltime    0\n",
              "studytime     0\n",
              "failures      0\n",
              "schoolsup     0\n",
              "famsup        0\n",
              "paid          0\n",
              "activities    0\n",
              "nursery       0\n",
              "higher        0\n",
              "internet      0\n",
              "romantic      0\n",
              "famrel        0\n",
              "freetime      0\n",
              "goout         0\n",
              "Dalc          0\n",
              "Walc          0\n",
              "health        0\n",
              "absences      0\n",
              "G1            0\n",
              "G2            0\n",
              "G3            0\n",
              "dtype: int64"
            ]
          },
          "metadata": {},
          "execution_count": 7
        }
      ]
    },
    {
      "cell_type": "code",
      "source": [
        "male_student = len(data[data['sex'] == 'M'])\n",
        "female_student= len(data[data['sex'] == 'F'])\n",
        "print('Number of male students:',male_student)\n",
        "print('Number of female students:',female_student)"
      ],
      "metadata": {
        "colab": {
          "base_uri": "https://localhost:8080/"
        },
        "id": "f0qYkl8M7p-z",
        "outputId": "637cea12-868d-4945-cce5-424d23233896"
      },
      "execution_count": null,
      "outputs": [
        {
          "output_type": "stream",
          "name": "stdout",
          "text": [
            "Number of male students: 187\n",
            "Number of female students: 208\n"
          ]
        }
      ]
    },
    {
      "cell_type": "code",
      "source": [
        "data.corr()['G3'].sort_values()"
      ],
      "metadata": {
        "colab": {
          "base_uri": "https://localhost:8080/"
        },
        "id": "nyiN3XqP8vCG",
        "outputId": "be7b020f-f97d-457b-dd1e-837d67b120e1"
      },
      "execution_count": null,
      "outputs": [
        {
          "output_type": "stream",
          "name": "stderr",
          "text": [
            "<ipython-input-30-467e0ce402cd>:1: FutureWarning: The default value of numeric_only in DataFrame.corr is deprecated. In a future version, it will default to False. Select only valid columns or specify the value of numeric_only to silence this warning.\n",
            "  data.corr()['G3'].sort_values()\n"
          ]
        },
        {
          "output_type": "execute_result",
          "data": {
            "text/plain": [
              "failures     -0.360415\n",
              "age          -0.161579\n",
              "goout        -0.132791\n",
              "traveltime   -0.117142\n",
              "health       -0.061335\n",
              "Dalc         -0.054660\n",
              "Walc         -0.051939\n",
              "freetime      0.011307\n",
              "absences      0.034247\n",
              "famrel        0.051363\n",
              "studytime     0.097820\n",
              "Fedu          0.152457\n",
              "Medu          0.217147\n",
              "G1            0.801468\n",
              "G2            0.904868\n",
              "G3            1.000000\n",
              "Name: G3, dtype: float64"
            ]
          },
          "metadata": {},
          "execution_count": 30
        }
      ]
    },
    {
      "cell_type": "code",
      "source": [
        "data['GradeAvg'] = (data['G1'] + data['G2'] + data['G3']) / 3"
      ],
      "metadata": {
        "id": "ZI0AJZ1O85Oe"
      },
      "execution_count": null,
      "outputs": []
    },
    {
      "cell_type": "code",
      "source": [
        "data.drop([\"school\",\"age\"], axis=1, inplace=True)"
      ],
      "metadata": {
        "id": "Hp0Gmyb_9B-S"
      },
      "execution_count": null,
      "outputs": []
    },
    {
      "cell_type": "code",
      "source": [
        "data.head()"
      ],
      "metadata": {
        "colab": {
          "base_uri": "https://localhost:8080/",
          "height": 299
        },
        "id": "1glq66509Fiv",
        "outputId": "8400ce03-40ba-4d7c-edf1-2e0b5248c549"
      },
      "execution_count": null,
      "outputs": [
        {
          "output_type": "execute_result",
          "data": {
            "text/plain": [
              "  sex address famsize Pstatus  Medu  Fedu     Mjob      Fjob  reason guardian  \\\n",
              "0   F       U     GT3       A     4     4  at_home   teacher  course   mother   \n",
              "1   F       U     GT3       T     1     1  at_home     other  course   father   \n",
              "2   F       U     LE3       T     1     1  at_home     other   other   mother   \n",
              "3   F       U     GT3       T     4     2   health  services    home   mother   \n",
              "4   F       U     GT3       T     3     3    other     other    home   father   \n",
              "\n",
              "   ...  freetime  goout  Dalc Walc health absences  G1  G2  G3   GradeAvg  \n",
              "0  ...         3      4     1    1      3        6   5   6   6   5.666667  \n",
              "1  ...         3      3     1    1      3        4   5   5   6   5.333333  \n",
              "2  ...         3      2     2    3      3       10   7   8  10   8.333333  \n",
              "3  ...         2      2     1    1      5        2  15  14  15  14.666667  \n",
              "4  ...         3      2     1    2      5        4   6  10  10   8.666667  \n",
              "\n",
              "[5 rows x 32 columns]"
            ],
            "text/html": [
              "\n",
              "  <div id=\"df-0aff3412-3885-44de-833a-47bb18ffc497\">\n",
              "    <div class=\"colab-df-container\">\n",
              "      <div>\n",
              "<style scoped>\n",
              "    .dataframe tbody tr th:only-of-type {\n",
              "        vertical-align: middle;\n",
              "    }\n",
              "\n",
              "    .dataframe tbody tr th {\n",
              "        vertical-align: top;\n",
              "    }\n",
              "\n",
              "    .dataframe thead th {\n",
              "        text-align: right;\n",
              "    }\n",
              "</style>\n",
              "<table border=\"1\" class=\"dataframe\">\n",
              "  <thead>\n",
              "    <tr style=\"text-align: right;\">\n",
              "      <th></th>\n",
              "      <th>sex</th>\n",
              "      <th>address</th>\n",
              "      <th>famsize</th>\n",
              "      <th>Pstatus</th>\n",
              "      <th>Medu</th>\n",
              "      <th>Fedu</th>\n",
              "      <th>Mjob</th>\n",
              "      <th>Fjob</th>\n",
              "      <th>reason</th>\n",
              "      <th>guardian</th>\n",
              "      <th>...</th>\n",
              "      <th>freetime</th>\n",
              "      <th>goout</th>\n",
              "      <th>Dalc</th>\n",
              "      <th>Walc</th>\n",
              "      <th>health</th>\n",
              "      <th>absences</th>\n",
              "      <th>G1</th>\n",
              "      <th>G2</th>\n",
              "      <th>G3</th>\n",
              "      <th>GradeAvg</th>\n",
              "    </tr>\n",
              "  </thead>\n",
              "  <tbody>\n",
              "    <tr>\n",
              "      <th>0</th>\n",
              "      <td>F</td>\n",
              "      <td>U</td>\n",
              "      <td>GT3</td>\n",
              "      <td>A</td>\n",
              "      <td>4</td>\n",
              "      <td>4</td>\n",
              "      <td>at_home</td>\n",
              "      <td>teacher</td>\n",
              "      <td>course</td>\n",
              "      <td>mother</td>\n",
              "      <td>...</td>\n",
              "      <td>3</td>\n",
              "      <td>4</td>\n",
              "      <td>1</td>\n",
              "      <td>1</td>\n",
              "      <td>3</td>\n",
              "      <td>6</td>\n",
              "      <td>5</td>\n",
              "      <td>6</td>\n",
              "      <td>6</td>\n",
              "      <td>5.666667</td>\n",
              "    </tr>\n",
              "    <tr>\n",
              "      <th>1</th>\n",
              "      <td>F</td>\n",
              "      <td>U</td>\n",
              "      <td>GT3</td>\n",
              "      <td>T</td>\n",
              "      <td>1</td>\n",
              "      <td>1</td>\n",
              "      <td>at_home</td>\n",
              "      <td>other</td>\n",
              "      <td>course</td>\n",
              "      <td>father</td>\n",
              "      <td>...</td>\n",
              "      <td>3</td>\n",
              "      <td>3</td>\n",
              "      <td>1</td>\n",
              "      <td>1</td>\n",
              "      <td>3</td>\n",
              "      <td>4</td>\n",
              "      <td>5</td>\n",
              "      <td>5</td>\n",
              "      <td>6</td>\n",
              "      <td>5.333333</td>\n",
              "    </tr>\n",
              "    <tr>\n",
              "      <th>2</th>\n",
              "      <td>F</td>\n",
              "      <td>U</td>\n",
              "      <td>LE3</td>\n",
              "      <td>T</td>\n",
              "      <td>1</td>\n",
              "      <td>1</td>\n",
              "      <td>at_home</td>\n",
              "      <td>other</td>\n",
              "      <td>other</td>\n",
              "      <td>mother</td>\n",
              "      <td>...</td>\n",
              "      <td>3</td>\n",
              "      <td>2</td>\n",
              "      <td>2</td>\n",
              "      <td>3</td>\n",
              "      <td>3</td>\n",
              "      <td>10</td>\n",
              "      <td>7</td>\n",
              "      <td>8</td>\n",
              "      <td>10</td>\n",
              "      <td>8.333333</td>\n",
              "    </tr>\n",
              "    <tr>\n",
              "      <th>3</th>\n",
              "      <td>F</td>\n",
              "      <td>U</td>\n",
              "      <td>GT3</td>\n",
              "      <td>T</td>\n",
              "      <td>4</td>\n",
              "      <td>2</td>\n",
              "      <td>health</td>\n",
              "      <td>services</td>\n",
              "      <td>home</td>\n",
              "      <td>mother</td>\n",
              "      <td>...</td>\n",
              "      <td>2</td>\n",
              "      <td>2</td>\n",
              "      <td>1</td>\n",
              "      <td>1</td>\n",
              "      <td>5</td>\n",
              "      <td>2</td>\n",
              "      <td>15</td>\n",
              "      <td>14</td>\n",
              "      <td>15</td>\n",
              "      <td>14.666667</td>\n",
              "    </tr>\n",
              "    <tr>\n",
              "      <th>4</th>\n",
              "      <td>F</td>\n",
              "      <td>U</td>\n",
              "      <td>GT3</td>\n",
              "      <td>T</td>\n",
              "      <td>3</td>\n",
              "      <td>3</td>\n",
              "      <td>other</td>\n",
              "      <td>other</td>\n",
              "      <td>home</td>\n",
              "      <td>father</td>\n",
              "      <td>...</td>\n",
              "      <td>3</td>\n",
              "      <td>2</td>\n",
              "      <td>1</td>\n",
              "      <td>2</td>\n",
              "      <td>5</td>\n",
              "      <td>4</td>\n",
              "      <td>6</td>\n",
              "      <td>10</td>\n",
              "      <td>10</td>\n",
              "      <td>8.666667</td>\n",
              "    </tr>\n",
              "  </tbody>\n",
              "</table>\n",
              "<p>5 rows × 32 columns</p>\n",
              "</div>\n",
              "      <button class=\"colab-df-convert\" onclick=\"convertToInteractive('df-0aff3412-3885-44de-833a-47bb18ffc497')\"\n",
              "              title=\"Convert this dataframe to an interactive table.\"\n",
              "              style=\"display:none;\">\n",
              "        \n",
              "  <svg xmlns=\"http://www.w3.org/2000/svg\" height=\"24px\"viewBox=\"0 0 24 24\"\n",
              "       width=\"24px\">\n",
              "    <path d=\"M0 0h24v24H0V0z\" fill=\"none\"/>\n",
              "    <path d=\"M18.56 5.44l.94 2.06.94-2.06 2.06-.94-2.06-.94-.94-2.06-.94 2.06-2.06.94zm-11 1L8.5 8.5l.94-2.06 2.06-.94-2.06-.94L8.5 2.5l-.94 2.06-2.06.94zm10 10l.94 2.06.94-2.06 2.06-.94-2.06-.94-.94-2.06-.94 2.06-2.06.94z\"/><path d=\"M17.41 7.96l-1.37-1.37c-.4-.4-.92-.59-1.43-.59-.52 0-1.04.2-1.43.59L10.3 9.45l-7.72 7.72c-.78.78-.78 2.05 0 2.83L4 21.41c.39.39.9.59 1.41.59.51 0 1.02-.2 1.41-.59l7.78-7.78 2.81-2.81c.8-.78.8-2.07 0-2.86zM5.41 20L4 18.59l7.72-7.72 1.47 1.35L5.41 20z\"/>\n",
              "  </svg>\n",
              "      </button>\n",
              "      \n",
              "  <style>\n",
              "    .colab-df-container {\n",
              "      display:flex;\n",
              "      flex-wrap:wrap;\n",
              "      gap: 12px;\n",
              "    }\n",
              "\n",
              "    .colab-df-convert {\n",
              "      background-color: #E8F0FE;\n",
              "      border: none;\n",
              "      border-radius: 50%;\n",
              "      cursor: pointer;\n",
              "      display: none;\n",
              "      fill: #1967D2;\n",
              "      height: 32px;\n",
              "      padding: 0 0 0 0;\n",
              "      width: 32px;\n",
              "    }\n",
              "\n",
              "    .colab-df-convert:hover {\n",
              "      background-color: #E2EBFA;\n",
              "      box-shadow: 0px 1px 2px rgba(60, 64, 67, 0.3), 0px 1px 3px 1px rgba(60, 64, 67, 0.15);\n",
              "      fill: #174EA6;\n",
              "    }\n",
              "\n",
              "    [theme=dark] .colab-df-convert {\n",
              "      background-color: #3B4455;\n",
              "      fill: #D2E3FC;\n",
              "    }\n",
              "\n",
              "    [theme=dark] .colab-df-convert:hover {\n",
              "      background-color: #434B5C;\n",
              "      box-shadow: 0px 1px 3px 1px rgba(0, 0, 0, 0.15);\n",
              "      filter: drop-shadow(0px 1px 2px rgba(0, 0, 0, 0.3));\n",
              "      fill: #FFFFFF;\n",
              "    }\n",
              "  </style>\n",
              "\n",
              "      <script>\n",
              "        const buttonEl =\n",
              "          document.querySelector('#df-0aff3412-3885-44de-833a-47bb18ffc497 button.colab-df-convert');\n",
              "        buttonEl.style.display =\n",
              "          google.colab.kernel.accessAllowed ? 'block' : 'none';\n",
              "\n",
              "        async function convertToInteractive(key) {\n",
              "          const element = document.querySelector('#df-0aff3412-3885-44de-833a-47bb18ffc497');\n",
              "          const dataTable =\n",
              "            await google.colab.kernel.invokeFunction('convertToInteractive',\n",
              "                                                     [key], {});\n",
              "          if (!dataTable) return;\n",
              "\n",
              "          const docLinkHtml = 'Like what you see? Visit the ' +\n",
              "            '<a target=\"_blank\" href=https://colab.research.google.com/notebooks/data_table.ipynb>data table notebook</a>'\n",
              "            + ' to learn more about interactive tables.';\n",
              "          element.innerHTML = '';\n",
              "          dataTable['output_type'] = 'display_data';\n",
              "          await google.colab.output.renderOutput(dataTable, element);\n",
              "          const docLink = document.createElement('div');\n",
              "          docLink.innerHTML = docLinkHtml;\n",
              "          element.appendChild(docLink);\n",
              "        }\n",
              "      </script>\n",
              "    </div>\n",
              "  </div>\n",
              "  "
            ]
          },
          "metadata": {},
          "execution_count": 33
        }
      ]
    },
    {
      "cell_type": "code",
      "source": [
        "data_dum=data"
      ],
      "metadata": {
        "id": "gfAXWs-h9J-D"
      },
      "execution_count": null,
      "outputs": []
    },
    {
      "cell_type": "code",
      "source": [
        "#Converting to categorical value\n",
        "categorical_d = {'yes': 1, 'no': 0}\n",
        "data_dum['schoolsup'] = data_dum['schoolsup'].map(categorical_d)\n",
        "data_dum['famsup'] = data_dum['famsup'].map(categorical_d)\n",
        "data_dum['paid'] = data_dum['paid'].map(categorical_d)\n",
        "data_dum['activities'] = data_dum['activities'].map(categorical_d)\n",
        "data_dum['nursery'] = data_dum['nursery'].map(categorical_d)\n",
        "data_dum['higher'] = data_dum['higher'].map(categorical_d)\n",
        "data_dum['internet'] = data_dum['internet'].map(categorical_d)\n",
        "data_dum['romantic'] = data_dum['romantic'].map(categorical_d)"
      ],
      "metadata": {
        "id": "w5cDlpa_9diL"
      },
      "execution_count": null,
      "outputs": []
    },
    {
      "cell_type": "code",
      "source": [
        "categorical_d = {'F': 1, 'M': 0}\n",
        "data_dum['sex'] = data_dum['sex'].map(categorical_d)\n",
        "\n",
        "# map the address data\n",
        "categorical_d = {'U': 1, 'R': 0}\n",
        "data_dum['address'] = data_dum['address'].map(categorical_d)\n",
        "\n",
        "# map the famili size data\n",
        "categorical_d = {'LE3': 1, 'GT3': 0}\n",
        "data_dum['famsize'] = data_dum['famsize'].map(categorical_d)\n",
        "\n",
        "# map the parent's status\n",
        "categorical_d= {'T': 1, 'A': 0}\n",
        "data_dum['Pstatus'] = data_dum['Pstatus'].map(categorical_d)\n",
        "\n",
        "# map the parent's job\n",
        "categorical_d = {'teacher': 0, 'health': 1, 'services': 2,'at_home': 3,'other': 4}\n",
        "data_dum['Mjob'] = data_dum['Mjob'].map(categorical_d)\n",
        "data_dum['Fjob'] = data_dum['Fjob'].map(categorical_d)\n",
        "\n",
        "# map the reason data\n",
        "categorical_d= {'home': 0, 'reputation': 1, 'course': 2,'other': 3}\n",
        "data_dum['reason'] = data_dum['reason'].map(categorical_d)\n",
        "\n",
        "# map the guardian data\n",
        "categorical_d = {'mother': 0, 'father': 1, 'other': 2}\n",
        "data_dum['guardian'] = data_dum['guardian'].map(categorical_d)\n",
        "data_dum.columns\n",
        "print(data_dum.columns)"
      ],
      "metadata": {
        "colab": {
          "base_uri": "https://localhost:8080/"
        },
        "id": "xxHFbjrG9fdK",
        "outputId": "66c022ba-d439-4ca2-b2ac-42abfcb08793"
      },
      "execution_count": null,
      "outputs": [
        {
          "output_type": "stream",
          "name": "stdout",
          "text": [
            "Index(['sex', 'address', 'famsize', 'Pstatus', 'Medu', 'Fedu', 'Mjob', 'Fjob',\n",
            "       'reason', 'guardian', 'traveltime', 'studytime', 'failures',\n",
            "       'schoolsup', 'famsup', 'paid', 'activities', 'nursery', 'higher',\n",
            "       'internet', 'romantic', 'famrel', 'freetime', 'goout', 'Dalc', 'Walc',\n",
            "       'health', 'absences', 'G1', 'G2', 'G3', 'GradeAvg'],\n",
            "      dtype='object')\n"
          ]
        }
      ]
    },
    {
      "cell_type": "code",
      "source": [
        "from sklearn.model_selection import train_test_split\n",
        "x=data_dum.drop(\"G3\",axis=1)\n",
        "y=data_dum['G3']"
      ],
      "metadata": {
        "id": "AnlcTAxJ9rGQ"
      },
      "execution_count": null,
      "outputs": []
    },
    {
      "cell_type": "code",
      "source": [
        "data_dum['G3']"
      ],
      "metadata": {
        "colab": {
          "base_uri": "https://localhost:8080/"
        },
        "id": "zp9fOirIAL7t",
        "outputId": "f00c508e-0d8a-488c-8d96-cadf916f9f46"
      },
      "execution_count": null,
      "outputs": [
        {
          "output_type": "execute_result",
          "data": {
            "text/plain": [
              "0       6\n",
              "1       6\n",
              "2      10\n",
              "3      15\n",
              "4      10\n",
              "       ..\n",
              "390     9\n",
              "391    16\n",
              "392     7\n",
              "393    10\n",
              "394     9\n",
              "Name: G3, Length: 395, dtype: int64"
            ]
          },
          "metadata": {},
          "execution_count": 39
        }
      ]
    },
    {
      "cell_type": "code",
      "source": [
        "X_train, X_test, y_train, y_test = train_test_split(x,y, test_size = 0.20, random_state=20)"
      ],
      "metadata": {
        "id": "-r-AzdmvAP9r"
      },
      "execution_count": null,
      "outputs": []
    },
    {
      "cell_type": "code",
      "source": [
        "from sklearn.linear_model import LinearRegression "
      ],
      "metadata": {
        "id": "qX6kuhz2AYSA"
      },
      "execution_count": null,
      "outputs": []
    },
    {
      "cell_type": "code",
      "source": [
        "L=LinearRegression()"
      ],
      "metadata": {
        "id": "xa9fxHb_AbMM"
      },
      "execution_count": null,
      "outputs": []
    },
    {
      "cell_type": "code",
      "source": [
        "L.fit(X_train, y_train)"
      ],
      "metadata": {
        "colab": {
          "base_uri": "https://localhost:8080/",
          "height": 74
        },
        "id": "DoYMvKOqAeHL",
        "outputId": "6ad46eb2-4eab-4af1-92fc-593413d4eb81"
      },
      "execution_count": null,
      "outputs": [
        {
          "output_type": "execute_result",
          "data": {
            "text/plain": [
              "LinearRegression()"
            ],
            "text/html": [
              "<style>#sk-container-id-2 {color: black;background-color: white;}#sk-container-id-2 pre{padding: 0;}#sk-container-id-2 div.sk-toggleable {background-color: white;}#sk-container-id-2 label.sk-toggleable__label {cursor: pointer;display: block;width: 100%;margin-bottom: 0;padding: 0.3em;box-sizing: border-box;text-align: center;}#sk-container-id-2 label.sk-toggleable__label-arrow:before {content: \"▸\";float: left;margin-right: 0.25em;color: #696969;}#sk-container-id-2 label.sk-toggleable__label-arrow:hover:before {color: black;}#sk-container-id-2 div.sk-estimator:hover label.sk-toggleable__label-arrow:before {color: black;}#sk-container-id-2 div.sk-toggleable__content {max-height: 0;max-width: 0;overflow: hidden;text-align: left;background-color: #f0f8ff;}#sk-container-id-2 div.sk-toggleable__content pre {margin: 0.2em;color: black;border-radius: 0.25em;background-color: #f0f8ff;}#sk-container-id-2 input.sk-toggleable__control:checked~div.sk-toggleable__content {max-height: 200px;max-width: 100%;overflow: auto;}#sk-container-id-2 input.sk-toggleable__control:checked~label.sk-toggleable__label-arrow:before {content: \"▾\";}#sk-container-id-2 div.sk-estimator input.sk-toggleable__control:checked~label.sk-toggleable__label {background-color: #d4ebff;}#sk-container-id-2 div.sk-label input.sk-toggleable__control:checked~label.sk-toggleable__label {background-color: #d4ebff;}#sk-container-id-2 input.sk-hidden--visually {border: 0;clip: rect(1px 1px 1px 1px);clip: rect(1px, 1px, 1px, 1px);height: 1px;margin: -1px;overflow: hidden;padding: 0;position: absolute;width: 1px;}#sk-container-id-2 div.sk-estimator {font-family: monospace;background-color: #f0f8ff;border: 1px dotted black;border-radius: 0.25em;box-sizing: border-box;margin-bottom: 0.5em;}#sk-container-id-2 div.sk-estimator:hover {background-color: #d4ebff;}#sk-container-id-2 div.sk-parallel-item::after {content: \"\";width: 100%;border-bottom: 1px solid gray;flex-grow: 1;}#sk-container-id-2 div.sk-label:hover label.sk-toggleable__label {background-color: #d4ebff;}#sk-container-id-2 div.sk-serial::before {content: \"\";position: absolute;border-left: 1px solid gray;box-sizing: border-box;top: 0;bottom: 0;left: 50%;z-index: 0;}#sk-container-id-2 div.sk-serial {display: flex;flex-direction: column;align-items: center;background-color: white;padding-right: 0.2em;padding-left: 0.2em;position: relative;}#sk-container-id-2 div.sk-item {position: relative;z-index: 1;}#sk-container-id-2 div.sk-parallel {display: flex;align-items: stretch;justify-content: center;background-color: white;position: relative;}#sk-container-id-2 div.sk-item::before, #sk-container-id-2 div.sk-parallel-item::before {content: \"\";position: absolute;border-left: 1px solid gray;box-sizing: border-box;top: 0;bottom: 0;left: 50%;z-index: -1;}#sk-container-id-2 div.sk-parallel-item {display: flex;flex-direction: column;z-index: 1;position: relative;background-color: white;}#sk-container-id-2 div.sk-parallel-item:first-child::after {align-self: flex-end;width: 50%;}#sk-container-id-2 div.sk-parallel-item:last-child::after {align-self: flex-start;width: 50%;}#sk-container-id-2 div.sk-parallel-item:only-child::after {width: 0;}#sk-container-id-2 div.sk-dashed-wrapped {border: 1px dashed gray;margin: 0 0.4em 0.5em 0.4em;box-sizing: border-box;padding-bottom: 0.4em;background-color: white;}#sk-container-id-2 div.sk-label label {font-family: monospace;font-weight: bold;display: inline-block;line-height: 1.2em;}#sk-container-id-2 div.sk-label-container {text-align: center;}#sk-container-id-2 div.sk-container {/* jupyter's `normalize.less` sets `[hidden] { display: none; }` but bootstrap.min.css set `[hidden] { display: none !important; }` so we also need the `!important` here to be able to override the default hidden behavior on the sphinx rendered scikit-learn.org. See: https://github.com/scikit-learn/scikit-learn/issues/21755 */display: inline-block !important;position: relative;}#sk-container-id-2 div.sk-text-repr-fallback {display: none;}</style><div id=\"sk-container-id-2\" class=\"sk-top-container\"><div class=\"sk-text-repr-fallback\"><pre>LinearRegression()</pre><b>In a Jupyter environment, please rerun this cell to show the HTML representation or trust the notebook. <br />On GitHub, the HTML representation is unable to render, please try loading this page with nbviewer.org.</b></div><div class=\"sk-container\" hidden><div class=\"sk-item\"><div class=\"sk-estimator sk-toggleable\"><input class=\"sk-toggleable__control sk-hidden--visually\" id=\"sk-estimator-id-2\" type=\"checkbox\" checked><label for=\"sk-estimator-id-2\" class=\"sk-toggleable__label sk-toggleable__label-arrow\">LinearRegression</label><div class=\"sk-toggleable__content\"><pre>LinearRegression()</pre></div></div></div></div></div>"
            ]
          },
          "metadata": {},
          "execution_count": 49
        }
      ]
    },
    {
      "cell_type": "code",
      "source": [
        "y_pred=L.predict(X_test)"
      ],
      "metadata": {
        "id": "QkPG_6bHAizT"
      },
      "execution_count": null,
      "outputs": []
    },
    {
      "cell_type": "code",
      "source": [
        "print(L.score(X_test, y_test)) \n"
      ],
      "metadata": {
        "colab": {
          "base_uri": "https://localhost:8080/"
        },
        "id": "YLv_1xOWAq5z",
        "outputId": "72f800b9-e295-464f-9ca8-9f76e85de5f9"
      },
      "execution_count": null,
      "outputs": [
        {
          "output_type": "stream",
          "name": "stdout",
          "text": [
            "1.0\n"
          ]
        }
      ]
    }
  ]
}